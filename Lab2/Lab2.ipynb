{
 "metadata": {
  "kernelspec": {
   "display_name": "Python 2",
   "language": "python",
   "name": "python2"
  },
  "language_info": {
   "codemirror_mode": {
    "name": "ipython",
    "version": 2
   },
   "file_extension": ".py",
   "mimetype": "text/x-python",
   "name": "python",
   "nbconvert_exporter": "python",
   "pygments_lexer": "ipython2",
   "version": "2.7.10"
  },
  "name": "",
  "signature": "sha256:4cd24442f282b2850677f89977543ee282e670b7fbe088e9496ebf3694c59b88"
 },
 "nbformat": 3,
 "nbformat_minor": 0,
 "worksheets": [
  {
   "cells": [
    {
     "cell_type": "markdown",
     "metadata": {},
     "source": [
      "# Lab 2: Classification\n",
      "\n",
      "### Machine Learning 1, September 2015\n",
      "\n",
      "* The lab exercises should be made in groups of two, three or four people.\n",
      "* The deadline is October 4th (Sunday) 23:59.\n",
      "* Assignment should be sent to Philip Versteeg (p.j.j.p.versteeg@uva.nl). The subject line of your email should be \"lab\\#\\_lastname1\\_lastname2\\_lastname3\".\n",
      "* Put your and your teammates' names in the body of the email\n",
      "* Attach the .IPYNB (IPython Notebook) file containing your code and answers. Naming of the file follows the same rule as the subject line. For example, if the subject line is \"lab01\\_Kingma\\_Hu\", the attached file should be \"lab01\\_Kingma\\_Hu.ipynb\". Only use underscores (\"\\_\") to connect names, otherwise the files cannot be parsed.\n",
      "\n",
      "Notes on implementation:\n",
      "\n",
      "* For this notebook you need to answer a few theory questions, add them in the Markdown cell's below the question. Note: you can use Latex-style code in here.\n",
      "* Focus on Part 1 the first week, and Part 2 the second week!\n",
      "* You should write your code and answers below the questions in this IPython Notebook.\n",
      "* Among the first lines of your notebook should be \"%pylab inline\". This imports all required modules, and your plots will appear inline.\n",
      "* If you have questions outside of the labs, post them on blackboard or email me.\n",
      "* NOTE: Make sure we can run your notebook / scripts!\n",
      "\n",
      "$\\newcommand{\\bx}{\\mathbf{x}}$\n",
      "$\\newcommand{\\bw}{\\mathbf{w}}$\n",
      "$\\newcommand{\\bt}{\\mathbf{t}}$\n",
      "$\\newcommand{\\by}{\\mathbf{y}}$\n",
      "$\\newcommand{\\bm}{\\mathbf{m}}$\n",
      "$\\newcommand{\\bb}{\\mathbf{b}}$\n",
      "$\\newcommand{\\bS}{\\mathbf{S}}$\n",
      "$\\newcommand{\\ba}{\\mathbf{a}}$\n",
      "$\\newcommand{\\bz}{\\mathbf{z}}$\n",
      "$\\newcommand{\\bv}{\\mathbf{v}}$\n",
      "$\\newcommand{\\bq}{\\mathbf{q}}$\n",
      "$\\newcommand{\\bp}{\\mathbf{p}}$\n",
      "$\\newcommand{\\bh}{\\mathbf{h}}$\n",
      "$\\newcommand{\\bI}{\\mathbf{I}}$\n",
      "$\\newcommand{\\bX}{\\mathbf{X}}$\n",
      "$\\newcommand{\\bT}{\\mathbf{T}}$\n",
      "$\\newcommand{\\bPhi}{\\mathbf{\\Phi}}$\n",
      "$\\newcommand{\\bW}{\\mathbf{W}}$\n",
      "$\\newcommand{\\bV}{\\mathbf{V}}$"
     ]
    },
    {
     "cell_type": "code",
     "collapsed": false,
     "input": [
      "%matplotlib inline\n",
      "import gzip, cPickle\n",
      "import matplotlib.pyplot as plt\n",
      "import numpy as np\n",
      "from pylab import *\n",
      "rcParams['legend.loc'] = 'best'"
     ],
     "language": "python",
     "metadata": {},
     "outputs": [],
     "prompt_number": 1
    },
    {
     "cell_type": "markdown",
     "metadata": {},
     "source": [
      "# Part 1. Multiclass logistic regression\n",
      "\n",
      "Scenario: you have a friend with one big problem: she's completely blind. You decided to help her: she has a special smartphone for blind people, and you are going to develop a mobile phone app that can do _machine vision_ using the mobile camera: converting a picture (from the camera) to the meaning of the image. You decide to start with an app that can read handwritten digits, i.e. convert an image of handwritten digits to text (e.g. it would enable her to read precious handwritten phone numbers).\n",
      "\n",
      "A key building block for such an app would be a function `predict_digit(x)` that returns the digit class of an image patch $\\bx$. Since hand-coding this function is highly non-trivial, you decide to solve this problem using machine learning, such that the internal parameters of this function are automatically learned using machine learning techniques.\n",
      "\n",
      "The dataset you're going to use for this is the MNIST handwritten digits dataset (`http://yann.lecun.com/exdb/mnist/`). You can load the data from `mnist.pkl.gz` we provided, using: "
     ]
    },
    {
     "cell_type": "code",
     "collapsed": false,
     "input": [
      "def load_mnist():\n",
      "    f = gzip.open('mnist.pkl.gz', 'rb')\n",
      "    data = cPickle.load(f)\n",
      "    f.close()\n",
      "    return data\n",
      "\n",
      "(x_train, t_train), (x_valid, t_valid), (x_test, t_test) = load_mnist()"
     ],
     "language": "python",
     "metadata": {},
     "outputs": [],
     "prompt_number": 2
    },
    {
     "cell_type": "markdown",
     "metadata": {},
     "source": [
      "The tuples represent train, validation and test sets. The first element (`x_train`, `x_valid`, `x_test`) of each tuple is a $N \\times M$ matrix, where $N$ is the number of datapoints and $M = 28^2 = 784$ is the dimensionality of the data. The second element (`t_train`, `t_valid`, `t_test`) of each tuple is the corresponding $N$-dimensional vector of integers, containing the true class labels.\n",
      "\n",
      "Here's a visualisation of the first 8 digits of the trainingset:"
     ]
    },
    {
     "cell_type": "code",
     "collapsed": false,
     "input": [
      "def plot_digits(data, numcols, shape=(28,28)):\n",
      "    numdigits = data.shape[0]\n",
      "    numrows = int(numdigits/numcols)\n",
      "    for i in range(0, numdigits):\n",
      "        plt.subplot(numrows, numcols, i)\n",
      "        plt.axis('off')\n",
      "        plt.imshow(data[i].reshape(shape), interpolation='nearest', cmap='Greys')\n",
      "    plt.show()\n",
      "    \n",
      "plot_digits(x_train[0:8], numcols=4)"
     ],
     "language": "python",
     "metadata": {},
     "outputs": [
      {
       "output_type": "stream",
       "stream": "stderr",
       "text": [
        "/usr/lib64/python2.7/site-packages/matplotlib/axes/_subplots.py:69: MatplotlibDeprecationWarning: The use of 0 (which ends up being the _last_ sub-plot) is deprecated in 1.4 and will raise an error in 1.5\n",
        "  mplDeprecation)\n"
       ]
      },
      {
       "metadata": {},
       "output_type": "display_data",
       "png": "[encoded data removed]",
       "text": [
        "<matplotlib.figure.Figure at 0x7fefb2bef150>"
       ]
      }
     ],
     "prompt_number": 3
    },
    {
     "cell_type": "markdown",
     "metadata": {},
     "source": [
      "In _multiclass_ logistic regression, the conditional probability of class label $j$ given the image $\\bx$ for some datapoint is given by:\n",
      "\n",
      "$ \\log p(t = j \\;|\\; \\bx, \\bb, \\bW) = \\log q_j - \\log Z$\n",
      "\n",
      "where $\\log q_j = \\bw_j^T \\bx + b_j$ (the log of the unnormalized probability of the class $j$), and $Z = \\sum_k q_k$ is the normalizing factor. $\\bw_j$ is the $j$-th column of $\\bW$ (a matrix of size $784 \\times 10$) corresponding to the class label, $b_j$ is the $j$-th element of $\\bb$.\n",
      "\n",
      "Given an input image, the multiclass logistic regression model first computes the intermediate vector $\\log \\bq$ (of size $10 \\times 1$), using $\\log q_j = \\bw_j^T \\bx + b_j$, containing the unnormalized log-probabilities per class. \n",
      "\n",
      "The unnormalized probabilities are then normalized by $Z$ such that $\\sum_j p_j = \\sum_j \\exp(\\log p_j) = 1$. This is done by $\\log p_j = \\log q_j - \\log Z$ where $Z = \\sum_j \\exp(\\log q_j)$. This is known as the _softmax_ transformation, and is also used as a last layer of many classifcation neural network models, to ensure that the output of the network is a normalized distribution, regardless of the values of second-to-last layer ($\\log \\bq$)\n",
      "\n",
      "Warning: when computing $\\log Z$, you are likely to encounter numerical problems. Save yourself countless hours of debugging and learn the [log-sum-exp trick](https://hips.seas.harvard.edu/blog/2013/01/09/computing-log-sum-exp/ \"Title\").\n",
      "\n",
      "The network's output $\\log \\bp$ of size $10 \\times 1$ then contains the conditional log-probabilities $\\log p(t = j \\;|\\; \\bx, \\bb, \\bW)$ for each digit class $j$. In summary, the computations are done in this order:\n",
      "\n",
      "$\\bx \\rightarrow \\log \\bq \\rightarrow Z \\rightarrow \\log \\bp$\n",
      "\n",
      "Given some dataset with $N$ independent, identically distributed datapoints, the log-likelihood is given by:\n",
      "\n",
      "$ \\mathcal{L}(\\bb, \\bW) = \\sum_{n=1}^N \\mathcal{L}^{(n)}$\n",
      "\n",
      "where we use $\\mathcal{L}^{(n)}$ to denote the partial log-likelihood evaluated over a single datapoint. It is important to see that the log-probability of the class label $t^{(n)}$ given the image, is given by the $t^{(n)}$-th element of the network's output $\\log \\bp$, denoted by $\\log p_{t^{(n)}}$:\n",
      "\n",
      "$\\mathcal{L}^{(n)} = \\log p(t = t^{(n)} \\;|\\; \\bx = \\bx^{(n)}, \\bb, \\bW) = \\log p_{t^{(n)}} = \\log q_{t^{(n)}} - \\log Z^{(n)}$\n",
      "\n",
      "where $\\bx^{(n)}$ and $t^{(n)}$ are the input (image) and class label (integer) of the $n$-th datapoint, and $Z^{(n)}$ is the normalizing constant for the distribution over $t^{(n)}$.\n"
     ]
    },
    {
     "cell_type": "markdown",
     "metadata": {},
     "source": [
      "## 1.1 Gradient-based stochastic optimization\n",
      "\n",
      "### 1.1.1 Derive gradient equations (20 points)\n",
      "\n",
      "Derive the equations for computing the (first) partial derivatives of the log-likelihood w.r.t. all the parameters, evaluated at a _single_ datapoint $n$.\n",
      "\n",
      "You should start deriving the equations for $\\frac{\\partial \\mathcal{L}^{(n)}}{\\partial \\log q_j}$ for each $j$. For clarity, we'll use the shorthand $\\delta^q_j = \\frac{\\partial \\mathcal{L}^{(n)}}{\\partial \\log q_j}$.\n",
      "\n",
      "For $j = t^{(n)}$:\n",
      "$\n",
      "\\delta^q_j\n",
      "= \\frac{\\partial \\mathcal{L}^{(n)}}{\\partial \\log p_j}\n",
      "\\frac{\\partial \\log p_j}{\\partial \\log q_j}\n",
      "+ \\frac{\\partial \\mathcal{L}^{(n)}}{\\partial \\log Z}\n",
      "\\frac{\\partial \\log Z}{\\partial Z} \n",
      "\\frac{\\partial Z}{\\partial \\log q_j} \n",
      "= 1 \\cdot 1 - \\frac{\\partial \\log Z}{\\partial Z} \n",
      "\\frac{\\partial Z}{\\partial \\log q_j}\n",
      "= 1 - \\frac{\\partial \\log Z}{\\partial Z} \n",
      "\\frac{\\partial Z}{\\partial \\log q_j}\n",
      "$\n",
      "\n",
      "For $j \\neq t^{(n)}$:\n",
      "$\n",
      "\\delta^q_j\n",
      "= \\frac{\\partial \\mathcal{L}^{(n)}}{\\partial \\log Z}\n",
      "\\frac{\\partial \\log Z}{\\partial Z} \n",
      "\\frac{\\partial Z}{\\partial \\log q_j} \n",
      "= - \\frac{\\partial \\log Z}{\\partial Z} \n",
      "\\frac{\\partial Z}{\\partial \\log q_j}\n",
      "$\n",
      "\n",
      "Complete the above derivations for $\\delta^q_j$ by furtherly developing $\\frac{\\partial \\log Z}{\\partial Z}$ and $\\frac{\\partial Z}{\\partial \\log q_j}$. Both are quite simple. For these it doesn't matter whether $j = t^{(n)}$ or not.\n",
      "\n",
      "Given your equations for computing the gradients $\\delta^q_j$ it should be quite straightforward to derive the equations for the gradients of the parameters of the model, $\\frac{\\partial \\mathcal{L}^{(n)}}{\\partial W_{ij}}$ and $\\frac{\\partial \\mathcal{L}^{(n)}}{\\partial b_j}$. The gradients for the biases $\\bb$ are given by:\n",
      "\n",
      "$\n",
      "\\frac{\\partial \\mathcal{L}^{(n)}}{\\partial b_j}\n",
      "= \\frac{\\partial \\mathcal{L}^{(n)}}{\\partial \\log q_j}\n",
      "\\frac{\\partial \\log q_j}{\\partial b_j}\n",
      "= \\delta^q_j\n",
      "\\cdot 1\n",
      "= \\delta^q_j\n",
      "$\n",
      "\n",
      "The equation above gives the derivative of $\\mathcal{L}^{(n)}$ w.r.t. a single element of $\\bb$, so the vector $\\nabla_\\bb \\mathcal{L}^{(n)}$ with all derivatives of $\\mathcal{L}^{(n)}$ w.r.t. the bias parameters $\\bb$ is: \n",
      "\n",
      "$\n",
      "\\nabla_\\bb \\mathcal{L}^{(n)} = \\mathbf{\\delta}^q\n",
      "$\n",
      "\n",
      "where $\\mathbf{\\delta}^q$ denotes the vector of size $10 \\times 1$ with elements $\\mathbf{\\delta}_j^q$.\n",
      "\n",
      "The (not fully developed) equation for computing the derivative of $\\mathcal{L}^{(n)}$ w.r.t. a single element $W_{ij}$ of $\\bW$ is:\n",
      "\n",
      "$\n",
      "\\frac{\\partial \\mathcal{L}^{(n)}}{\\partial W_{ij}} =\n",
      "\\frac{\\partial \\mathcal{L}^{(n)}}{\\partial \\log q_j}\n",
      "\\frac{\\partial \\log q_j}{\\partial W_{ij}}\n",
      "= \\mathbf{\\delta}_j^q\n",
      "\\frac{\\partial \\log q_j}{\\partial W_{ij}}\n",
      "$\n",
      "\n",
      "What is $\\frac{\\partial \\log q_j}{\\partial W_{ij}}$? Complete the equation above.\n",
      "\n",
      "If you want, you can give the resulting equation in vector format ($\\nabla_{\\bw_j} \\mathcal{L}^{(n)} = ...$), like we did for $\\nabla_\\bb \\mathcal{L}^{(n)}$.\n",
      "\n",
      "##### Answer: "
     ]
    },
    {
     "cell_type": "markdown",
     "metadata": {},
     "source": [
      "$\\dfrac{\\partial \\log Z}{\\partial Z} = \\dfrac{1}{Z}$\n",
      "\n",
      "$\\dfrac{\\partial Z}{\\partial \\log q_j} = \\dfrac{\\partial \\sum_k q_k}{\\partial \\log q_j} = \\dfrac{\\partial q_j}{\\partial \\log q_j} = \\dfrac{\\partial exp(\\log q_j)}{\\partial \\log q_j} = exp(\\log q_j)$\n",
      "\n",
      "For $j = t^{(n)}$: $\\delta_j^q = 1 - \\dfrac{1}{Z}exp(\\log q_j)$\n",
      "\n",
      "For $j \\neq t^{(n)}$: $\\delta_j^q = -\\dfrac{1}{Z}exp(\\log q_j)$\n",
      "\n",
      "$ \\log q_j = \\mathbf{w}_j^T \\mathbf{x} = b_j + \\sum_{i} W_{ij} x_i \\Rightarrow \\dfrac{\\partial \\log q_j}{\\partial W_{ij}} = x_i \\Rightarrow \\dfrac{\\partial \\mathcal{L}^{(n)}}{\\partial W_{ij}} = \\delta_j^q x_i$"
     ]
    },
    {
     "cell_type": "markdown",
     "metadata": {},
     "source": [
      "### 1.1.2 Implement gradient computations (10 points)\n",
      "\n",
      "Implement the gradient calculations you derived in the previous question. Write a function `logreg_gradient(x, t, w, b)` that returns the gradients $\\nabla_{\\bw_j} \\mathcal{L}^{(n)}$ (for each $j$) and $\\nabla_{\\bb} \\mathcal{L}^{(n)}$, i.e. the first partial derivatives of the log-likelihood w.r.t. the parameters $\\bW$ and $\\bb$, evaluated at a single datapoint (`x`, `t`).\n",
      "The computation will contain roughly the following intermediate variables:\n",
      "\n",
      "$\n",
      "\\log \\bq \\rightarrow Z \\rightarrow \\log \\bp\\,,\\, \\mathbf{\\delta}^q\n",
      "$\n",
      "\n",
      "followed by computation of the gradient vectors $\\nabla_{\\bw_j} \\mathcal{L}^{(n)}$ (contained in a $784 \\times 10$ matrix) and $\\nabla_{\\bb} \\mathcal{L}^{(n)}$ (a $10 \\times 1$ vector).\n"
     ]
    },
    {
     "cell_type": "code",
     "collapsed": false,
     "input": [
      "def logreg_gradient(x, t, W, b):\n",
      "    log_q = W.T.dot(x) + b\n",
      "\n",
      "    # Log-sum-exp trick\n",
      "    a = np.max(log_q)\n",
      "    logZ = a + np.log(np.sum(np.exp(log_q - a)))\n",
      "    Z = np.exp(logZ)\n",
      "    grad_b = -np.exp(log_q) / Z\n",
      "    grad_b[t] += 1\n",
      "    grad_w = x[np.newaxis].T.dot(grad_b[np.newaxis])\n",
      "    return grad_w, grad_b\n",
      "\n",
      "def init_weights(num_of_features, num_of_class):\n",
      "    w = (np.random.random_sample((num_of_features, num_of_class)) - 0.5) * 0.001\n",
      "    b = (np.random.random_sample(num_of_class) - 0.5) * 0.001\n",
      "    return w, b\n",
      "\n",
      "np.random.seed(0)\n",
      "num_of_features = x_train.shape[1]\n",
      "num_of_class = 10"
     ],
     "language": "python",
     "metadata": {},
     "outputs": [],
     "prompt_number": 4
    },
    {
     "cell_type": "code",
     "collapsed": true,
     "input": [
      "# Test\n",
      "w, b = init_weights(num_of_features, num_of_class)\n",
      "\n",
      "random_item_id = np.random.randint(x_train.shape[0])\n",
      "grad_w, grad_b = logreg_gradient(x_train[random_item_id], t_train[random_item_id], w, b)\n",
      "print grad_w.shape, grad_b.shape"
     ],
     "language": "python",
     "metadata": {},
     "outputs": [
      {
       "output_type": "stream",
       "stream": "stdout",
       "text": [
        "(784, 10) (10,)\n"
       ]
      }
     ],
     "prompt_number": 5
    },
    {
     "cell_type": "markdown",
     "metadata": {},
     "source": [
      "### 1.1.3 Stochastic gradient descent (10 points)\n",
      "\n",
      "Write a function `sgd_iter(x_train, t_train, w, b)` that performs one iteration of stochastic gradient descent (SGD), and returns the new weights. It should go through the trainingset once in randomized order, call `logreg_gradient(x, t, w, b)` for each datapoint to get the gradients, and update the parameters using a small learning rate (e.g. `1E-4`). Note that in this case we're maximizing the likelihood function, so we should actually performing gradient ___ascent___... For more information about SGD, see Bishop 5.2.4 or an online source (i.e. https://en.wikipedia.org/wiki/Stochastic_gradient_descent)"
     ]
    },
    {
     "cell_type": "code",
     "collapsed": false,
     "input": [
      "def compute_log_likelihood(x, t, w, b):\n",
      "    log_q = x.dot(w) + b\n",
      "    a = np.max(log_q, axis=1)\n",
      "    log_Z = a + np.log(np.sum(np.exp((log_q.T - a).T)))\n",
      "    #print log_Z\n",
      "    log_likelihood = np.sum(np.array([log_q[index, value] for (index,), value in np.ndenumerate(t)]) - log_Z)\n",
      "    return log_likelihood\n",
      "\n",
      "def sgd_iter(x_train, t_train, w, b, lr=0.001):\n",
      "    \"\"\"\n",
      "    Don't need to return w and b. They are modified by reference\n",
      "    \"\"\"\n",
      "    indexes = np.arange(len(x_train))\n",
      "    np.random.shuffle(indexes)\n",
      "\n",
      "    for index in indexes:\n",
      "        grad_w, delta = logreg_gradient(x_train[index], t_train[index], w, b)\n",
      "        w += lr * grad_w\n",
      "        b += lr * delta"
     ],
     "language": "python",
     "metadata": {},
     "outputs": [],
     "prompt_number": 6
    },
    {
     "cell_type": "code",
     "collapsed": true,
     "input": [
      "# Test\n",
      "w, b = init_weights(num_of_features, num_of_class)\n",
      "print 'Likelihood:', compute_log_likelihood(x_train, t_train, w, b)\n",
      "sgd_iter(x_train, t_train, w, b)\n",
      "print 'Likelihood:', compute_log_likelihood(x_train, t_train, w, b)\n",
      "\n",
      "print w.shape, b.shape"
     ],
     "language": "python",
     "metadata": {},
     "outputs": [
      {
       "output_type": "stream",
       "stream": "stdout",
       "text": [
        "Likelihood: "
       ]
      },
      {
       "output_type": "stream",
       "stream": "stdout",
       "text": [
        "-656101.475887\n",
        "Likelihood:"
       ]
      },
      {
       "output_type": "stream",
       "stream": "stdout",
       "text": [
        " -563579.176356\n",
        "(784, 10) (10,)\n"
       ]
      }
     ],
     "prompt_number": 7
    },
    {
     "cell_type": "markdown",
     "metadata": {},
     "source": [
      "## 1.2. Train\n",
      "\n",
      "### 1.2.1 Train (10 points)\n",
      "Perform a handful of training iterations through the trainingset. Plot (in one graph) the conditional log-probability of the trainingset and validation set after each iteration.\n"
     ]
    },
    {
     "cell_type": "code",
     "collapsed": false,
     "input": [
      "w, b = init_weights(num_of_features, num_of_class)\n",
      "\n",
      "loglik_train = [compute_log_likelihood(x_train, t_train, w, b)]\n",
      "loglik_valid = [compute_log_likelihood(x_valid, t_valid, w, b)]\n",
      "\n",
      "for i in xrange(20):\n",
      "    sgd_iter(x_train, t_train, w, b)\n",
      "    loglik_train.append(compute_log_likelihood(x_train, t_train, w, b))\n",
      "    loglik_valid.append(compute_log_likelihood(x_valid, t_valid, w, b))\n",
      "print loglik_train\n",
      "print loglik_valid"
     ],
     "language": "python",
     "metadata": {},
     "outputs": [
      {
       "output_type": "stream",
       "stream": "stdout",
       "text": [
        "[-656127.78796885256, -563489.54004502413, -560710.70819607517, -559476.86415083136, -558672.87133309408, -558126.77589244605, -557778.31006429915, -557503.29501747712, -557221.17392680771, -557006.95308198209, -556857.89457949984, -556652.54276553483, -556608.59091926157, -556414.18220701138, -556325.04402379564, -556193.87064407591, -556191.2871871643, -556029.22706000751, -555984.25005778333, -555919.39343924192, -555812.71085594292]\n",
        "[-115131.3188426539, -96225.157424292818, -95739.368808260973, -95537.644802986848, -95416.687431804312, -95324.357970577519, -95276.300002378557, -95226.403100354655, -95198.58238510575, -95163.42667403337, -95141.45578611338, -95106.095667088433, -95110.736190914176, -95081.876999509084, -95069.190430164759, -95048.415419227094, -95048.645472410601, -95033.776317953481, -95019.125260893954, -95011.934854917476, -95003.694336871093]\n"
       ]
      }
     ],
     "prompt_number": 8
    },
    {
     "cell_type": "code",
     "collapsed": false,
     "input": [
      "r = np.arange(len(loglik_valid))\n",
      "figure = plt.figure()\n",
      "figure.set_size_inches((14, 10))\n",
      "plt.subplot(221)\n",
      "plt.plot(r, loglik_train, label='Training set')\n",
      "plt.plot(r, loglik_valid, label='Validation set')\n",
      "plt.ylabel('Likelihood')\n",
      "plt.xlabel('Iteration')\n",
      "plt.grid(True)\n",
      "plt.legend()\n",
      "\n",
      "plt.subplot(222)\n",
      "plt.plot(r, loglik_train)\n",
      "plt.title('log likelihood changes for the training set')\n",
      "plt.ylabel('Likelihood')\n",
      "plt.xlabel('Iteration')\n",
      "plt.grid(True)\n",
      "\n",
      "plt.subplot(223)\n",
      "plt.plot(r, loglik_valid)\n",
      "plt.title('log likelihood changes for the validation set')\n",
      "\n",
      "plt.ylabel('Likelihood')\n",
      "plt.xlabel('Iteration')\n",
      "plt.grid(True)\n",
      "\n",
      "plt.show()"
     ],
     "language": "python",
     "metadata": {},
     "outputs": [
      {
       "metadata": {},
       "output_type": "display_data",
       "png": "[encoded data removed]",
       "text": [
        "<matplotlib.figure.Figure at 0x7fefb26f6190>"
       ]
      }
     ],
     "prompt_number": 9
    },
    {
     "cell_type": "markdown",
     "metadata": {},
     "source": [
      "### 1.2.2 Visualize weights (10 points)\n",
      "Visualize the resulting parameters $\\bW$ after a few iterations through the training set, by treating each column of $\\bW$ as an image. If you want, you can use or edit the `plot_digits(...)` above."
     ]
    },
    {
     "cell_type": "code",
     "collapsed": false,
     "input": [
      "plot_digits(w.T, numcols=5)"
     ],
     "language": "python",
     "metadata": {},
     "outputs": [
      {
       "metadata": {},
       "output_type": "display_data",
       "png": "[encoded data removed]",
       "text": [
        "<matplotlib.figure.Figure at 0x7fefb2be12d0>"
       ]
      }
     ],
     "prompt_number": 10
    },
    {
     "cell_type": "markdown",
     "metadata": {},
     "source": [
      "### 1.2.3. Visualize the 8 hardest and 8 easiest digits (10 points)\n",
      "Visualize the 8 digits in the validation set with the highest probability of the true class label under the model.\n",
      "Also plot the 8 digits that were assigned the lowest probability.\n",
      "Ask yourself if these results make sense."
     ]
    },
    {
     "cell_type": "code",
     "collapsed": false,
     "input": [
      "# Ranking by highest probability is the same like ranking log(q(j = t)), therefore we are taking log_qt to make\n",
      "# it easier from the computational perspective\n",
      "log_q = x_valid.dot(w) + b\n",
      "\n",
      "log_qt = np.array([log_q[index, value] for (index,), value in np.ndenumerate(t_valid)]) \n",
      "sorted_by_log_qt = np.argsort(log_qt)\n",
      "easiest = sorted_by_log_qt[-8:]\n",
      "for i in range(8):\n",
      "    plt.subplot(1, 8, i)\n",
      "    plt.axis('off')\n",
      "    plt.imshow(x_train[easiest[i]].reshape((28, 28)), interpolation='nearest', cmap='Greys')\n",
      "plt.title('Easiest 8 digits')\n",
      "plt.show()\n",
      "\n",
      "hardest = sorted_by_log_qt[:8]\n",
      "for i in range(8):\n",
      "    plt.subplot(1, 8, i)\n",
      "    plt.axis('off')\n",
      "    plt.imshow(x_train[hardest[i]].reshape((28, 28)), interpolation='nearest', cmap='Greys')\n",
      "plt.title('Hardest 8 digits')\n",
      "plt.show()"
     ],
     "language": "python",
     "metadata": {},
     "outputs": [
      {
       "metadata": {},
       "output_type": "display_data",
       "png": "[encoded data removed]",
       "text": [
        "<matplotlib.figure.Figure at 0x7fefb22f3710>"
       ]
      },
      {
       "metadata": {},
       "output_type": "display_data",
       "png": "[encoded data removed]",
       "text": [
        "<matplotlib.figure.Figure at 0x7fefb2aa6e90>"
       ]
      }
     ],
     "prompt_number": 11
    },
    {
     "cell_type": "markdown",
     "metadata": {},
     "source": [
      "# Part 2. Multilayer perceptron\n",
      "\n",
      "\n",
      "You discover that the predictions by the logistic regression classifier are not good enough for your application: the model is too simple. You want to increase the accuracy of your predictions by using a better model. For this purpose, you're going to use a multilayer perceptron (MLP), a simple kind of neural network. The perceptron wil have a single hidden layer $\\bh$ with $L$ elements. The parameters of the model are $\\bV$ (connections between input $\\bx$ and hidden layer $\\bh$), $\\ba$ (the biases/intercepts of $\\bh$), $\\bW$ (connections between $\\bh$ and $\\log q$) and $\\bb$ (the biases/intercepts of $\\log q$.\n",
      "\n",
      "The conditional probability of the class label $j$ is given by:\n",
      "\n",
      "$\\log p(t = j \\;|\\; \\bx, \\bb, \\bW) = \\log q_j - \\log Z$\n",
      "\n",
      "where $q_j$ are again the unnormalized probabilities per class, and $Z = \\sum_j q_j$ is again the probability normalizing factor. Each $q_j$ is computed using:\n",
      "\n",
      "$\\log q_j = \\bw_j^T \\bh + b_j$\n",
      "\n",
      "where $\\bh$ is a $L \\times 1$ vector with the hidden layer activations (of a hidden layer with size $L$), and $\\bw_j$ is the $j$-th column of $\\bW$ (a $L \\times 10$ matrix). Each element of the hidden layer is computed from the input vector $\\bx$ using:\n",
      "\n",
      "$h_j = \\sigma(\\bv_j^T \\bx + a_j)$\n",
      "\n",
      "where $\\bv_j$ is the $j$-th column of $\\bV$ (a $784 \\times L$ matrix), $a_j$ is the $j$-th element of $\\ba$, and $\\sigma(.)$ is the so-called sigmoid activation function, defined by:\n",
      "\n",
      "$\\sigma(x) = \\frac{1}{1 + \\exp(-x)}$\n",
      "\n",
      "Note that this model is almost equal to the multiclass logistic regression model, but with an extra 'hidden layer' $\\bh$. The activations of this hidden layer can be viewed as features computed from the input, where the feature transformation ($\\bV$ and $\\ba$) is learned.\n",
      "\n",
      "## 2.1 Derive gradient equations (20 points)\n",
      "\n",
      "State (shortly) why $\\nabla_{\\bb} \\mathcal{L}^{(n)}$ is equal to the earlier (multiclass logistic regression) case, and why $\\nabla_{\\bw_j} \\mathcal{L}^{(n)}$ is almost equal to the earlier case.\n",
      "\n",
      "Like in multiclass logistic regression, you should use intermediate variables $\\mathbf{\\delta}_j^q$. In addition, you should use intermediate variables $\\mathbf{\\delta}_j^h = \\frac{\\partial \\mathcal{L}^{(n)}}{\\partial h_j}$.\n",
      "\n",
      "Given an input image, roughly the following intermediate variables should be computed:\n",
      "\n",
      "$\n",
      "\\log \\bq \\rightarrow Z \\rightarrow \\log \\bp \\rightarrow \\mathbf{\\delta}^q \\rightarrow \\mathbf{\\delta}^h\n",
      "$\n",
      "\n",
      "where $\\mathbf{\\delta}_j^h = \\frac{\\partial \\mathcal{L}^{(n)}}{\\partial \\bh_j}$.\n",
      "\n",
      "Give the equations for computing $\\mathbf{\\delta}^h$, and for computing the derivatives of $\\mathcal{L}^{(n)}$ w.r.t. $\\bW$, $\\bb$, $\\bV$ and $\\ba$. \n",
      "\n",
      "You can use the convenient fact that $\\frac{\\partial}{\\partial x} \\sigma(x) = \\sigma(x) (1 - \\sigma(x))$.\n",
      "\n",
      "##### Answer: "
     ]
    },
    {
     "cell_type": "markdown",
     "metadata": {},
     "source": [
      "$\\mathcal{L}^{(n)} = \\log q_j - \\log Z = \\mathbf{w}_j^T \\mathbf{h} + b_j - \\log Z = \\sum_{i=1}^L W_{ij}\\sigma(\\mathbf{v}_i^T \\mathbf{x} + a_i) + b_j - \\log Z = \\sum_{i=1}^L W_{ij}\\sigma(\\sum_{k=1}^{784} v_{ki}x_k + a_i) + b_j - \\log Z$\n",
      "\n",
      "$\\delta^q_j = \\frac{\\partial \\mathcal{L}^{(n)}}{\\partial \\log q_j}$\n",
      "\n",
      "For $j = t^{(n)}$: $\\delta_j^q = 1 - \\dfrac{1}{Z}exp(\\log q_j)$\n",
      "\n",
      "For $j \\neq t^{(n)}$: $\\delta_j^q = -\\dfrac{1}{Z}exp(\\log q_j)$\n",
      "\n",
      "$\\delta_i^h = \\dfrac{\\partial \\mathcal{L}^{(n)}}{\\partial h_i} = \\dfrac{\\partial \\mathcal{L}^{(n)}}{\\partial \\log q_j} \\dfrac{\\partial \\log q_j}{\\partial h_i} = \\delta_j^q W_{ij}$\n",
      "\n",
      "$\\dfrac{\\partial \\mathcal{L}^{(n)}}{\\partial b_j} = \\dfrac{\\partial \\mathcal{L}^{(n)}}{\\partial \\log q_j} \\dfrac{\\partial \\log q_j}{\\partial b_j} = \\delta_j^q$\n",
      "\n",
      "$\\dfrac{\\partial \\mathcal{L}^{(n)}}{\\partial W_{ij}} = \\dfrac{\\partial \\mathcal{L}^{(n)}}{\\partial \\log q_j}\\dfrac{\\partial \\log q_j}{\\partial \\log W_{ij}} = \\delta_j^q h_i$\n",
      "\n",
      "$\\dfrac{\\partial \\mathcal{L}^{(n)}}{\\partial a_i} = \\dfrac{\\partial \\mathcal{L}^{(n)}}{\\partial h_i} \\dfrac{\\partial h_i}{\\partial (\\mathbf{v_i}^T\\mathbf{x} + a_i)}  \\dfrac{\\partial(\\mathbf{v_i}^T\\mathbf{x} + a_i)}{\\partial a_i} = \\delta_i^h \\sigma(\\mathbf{v_i}^T\\mathbf{x} + a_i)(1 - \\sigma(\\mathbf{v_i}^T\\mathbf{x} + a_i)) = \\delta_i^h h_i (1 - h_i)$\n",
      "\n",
      "$\\dfrac{\\partial \\mathcal{L}^{(n)}}{\\partial v_{ki}} = \\dfrac{\\partial \\mathcal{L}^{(n)}}{\\partial h_i} \\dfrac{\\partial h_i}{\\partial(\\mathbf{v_i}^T\\mathbf{x} + a_i)}  \\dfrac{\\partial(\\mathbf{v_i}^T\\mathbf{x} + a_i)}{\\partial a_i} = \\delta_i^h \\sigma(\\mathbf{v_i}^T\\mathbf{x} + a_i)(1 - \\sigma(\\mathbf{v_i}^T\\mathbf{x} + a_i))x_k = \\delta_i^h h_i(1 - h_i)x_k$"
     ]
    },
    {
     "cell_type": "markdown",
     "metadata": {},
     "source": [
      "## 2.2 MAP optimization (10 points)\n",
      "\n",
      "You derived equations for finding the _maximum likelihood_ solution of the parameters. Explain, in a few sentences, how you could extend this approach so that it optimizes towards a _maximum a posteriori_ (MAP) solution of the parameters, with a Gaussian prior on the parameters. \n",
      "\n",
      "##### Answer: "
     ]
    },
    {
     "cell_type": "markdown",
     "metadata": {},
     "source": [
      "$\\mathcal{L}^{(n)} = \\log q_j - \\log Z - \\dfrac{\\alpha_1}{2}\\sum_{k=1}^{784}\\sum_{i=0}^L v_{ki}^2 - \\dfrac{\\alpha_2}{2} \\sum_{i=0}^L\\sum_{j=1}^{10} W_{ij}^2 $\n",
      "\n",
      "$\\dfrac{\\partial \\mathcal{L}^{(n)}}{\\partial b_j} = \\delta_j^q$\n",
      "\n",
      "$\\dfrac{\\partial \\mathcal{L}^{(n)}}{\\partial W_{ij}} = \\delta_j^q h_i - \\alpha_2 W_{ij}$\n",
      "\n",
      "$\\dfrac{\\partial \\mathcal{L}^{(n)}}{\\partial a_i} = \\delta_i^h h_i (1 - h_i)$\n",
      "\n",
      "$\\dfrac{\\partial \\mathcal{L}^{(n)}}{\\partial v_{ki}} = \\delta_i^h h_i (1 - h_i)x_k - \\alpha_1 v_{ki}$\n",
      "\n",
      "<!-- Bishop 5.5.1 Section -->"
     ]
    },
    {
     "cell_type": "markdown",
     "metadata": {},
     "source": [
      "## 2.3. Implement and train a MLP (15 points)\n",
      "\n",
      "Implement a MLP model with a single hidden layer, and code to train the model."
     ]
    },
    {
     "cell_type": "code",
     "collapsed": false,
     "input": [
      "def mlperceptron_gradient(x, t, W, b, V, a, a1=0.001, a2=0.001):\n",
      "    h = 1 / (1 + np.exp(-x.dot(V) - a))\n",
      "    log_q = h.dot(W) + b\n",
      "\n",
      "    a = np.max(log_q)\n",
      "    logZ = a + np.log(np.sum(np.exp(log_q - a)))\n",
      "    Z = np.exp(logZ) \n",
      "\n",
      "    grad_b = -np.exp(log_q) / Z\n",
      "    grad_b[t] += 1\n",
      "\n",
      "    grad_W = h[np.newaxis].T.dot(grad_b[np.newaxis]) - a2 * W\n",
      "\n",
      "    grad_h = W[:,t].dot(grad_b[t])\n",
      "    grad_a = grad_h * h * (1 - h)\n",
      "\n",
      "    grad_V = x[np.newaxis].T.dot(grad_a[np.newaxis]) - a1 * V\n",
      "    return grad_W, grad_b, grad_V, grad_a\n",
      "\n",
      "def init_mlperceptron_weights(num_of_features, num_of_class, L):\n",
      "    W = (np.random.random_sample((L, num_of_class)) - 0.5) * 0.001\n",
      "    b = (np.random.random_sample(num_of_class) - 0.5) * 0.001\n",
      "    V = (np.random.random_sample((num_of_features, L)) - 0.5) * 0.001\n",
      "    a = (np.random.random_sample(L) - 0.5) * 0.001\n",
      "    return W, b, V, a"
     ],
     "language": "python",
     "metadata": {},
     "outputs": [],
     "prompt_number": 12
    },
    {
     "cell_type": "code",
     "collapsed": false,
     "input": [
      "# Test\n",
      "np.random.seed(0)\n",
      "L = 50\n",
      "W, b, V, a = init_mlperceptron_weights(num_of_features, num_of_class, L)\n",
      "grad_W, grad_b, grad_V, grad_a = mlperceptron_gradient(x_train[0], t_train[0], W, b, V, a)\n",
      "print grad_W.shape, grad_b.shape, grad_V.shape, grad_a.shape"
     ],
     "language": "python",
     "metadata": {},
     "outputs": [
      {
       "output_type": "stream",
       "stream": "stdout",
       "text": [
        "(50, 10) (10,) (784, 50) (50,)\n"
       ]
      }
     ],
     "prompt_number": 13
    },
    {
     "cell_type": "code",
     "collapsed": false,
     "input": [
      "def sgd_mlperceptron_iter(x_train, t_train, W, b, V, a, a1=0.001, a2=0.001, lr=0.001):\n",
      "    indexes = np.arange(len(x_train))\n",
      "    np.random.shuffle(indexes)\n",
      "\n",
      "    for index in indexes:\n",
      "        grad_W, grad_b, grad_V, grad_a = mlperceptron_gradient(x_train[index], t_train[index], W, b, V, a, a1, a2)\n",
      "        W += lr * grad_W\n",
      "        b += lr * grad_b\n",
      "        V += lr * grad_V\n",
      "        a += lr * grad_a"
     ],
     "language": "python",
     "metadata": {},
     "outputs": [],
     "prompt_number": 14
    },
    {
     "cell_type": "code",
     "collapsed": true,
     "input": [
      "# Test\n",
      "np.random.seed(0)\n",
      "L = 50\n",
      "W, b, V, a = init_mlperceptron_weights(num_of_features, num_of_class, L)\n",
      "sgd_mlperceptron_iter(x_train, t_train, W, b, V, a)"
     ],
     "language": "python",
     "metadata": {},
     "outputs": [],
     "prompt_number": 15
    },
    {
     "cell_type": "code",
     "collapsed": true,
     "input": [
      "def compute_log_likelihood(x, t, W, b, V, a):\n",
      "    h = 1 / (1 + np.exp(-x.dot(V) - a))\n",
      "    log_q = h.dot(W) + b\n",
      "\n",
      "    a = np.max(log_q)\n",
      "    log_Z = a + np.log(np.sum(np.exp(log_q - a)))\n",
      "\n",
      "    log_likelihood = np.sum(np.array([log_q[index, value] for (index,), value in np.ndenumerate(t)]) - log_Z)\n",
      "    return log_likelihood"
     ],
     "language": "python",
     "metadata": {},
     "outputs": [],
     "prompt_number": 16
    },
    {
     "cell_type": "code",
     "collapsed": false,
     "input": [
      "# Test\n",
      "compute_log_likelihood(x_train, t_train, W, b, V, a)"
     ],
     "language": "python",
     "metadata": {},
     "outputs": [
      {
       "metadata": {},
       "output_type": "pyout",
       "prompt_number": 17,
       "text": [
        "-647362.6658047433"
       ]
      }
     ],
     "prompt_number": 17
    },
    {
     "cell_type": "code",
     "collapsed": true,
     "input": [
      "import time\n",
      "def train_mlperceptron(W, b, V, a, a1=0.001, a2=0.001, lr=0.001, num_iter=20, cl=True):\n",
      "    loglik_train = []\n",
      "    if cl:\n",
      "        loglik_train.append(compute_log_likelihood(x_train, t_train, W, b, V, a))\n",
      "    for i in xrange(num_iter):\n",
      "        t1 = time.time()\n",
      "        sgd_mlperceptron_iter(x_train, t_train, W, b, V, a, a1, a2, lr)\n",
      "        print 'dt =', (time.time() - t1)\n",
      "        if cl:\n",
      "            loglik_train.append(compute_log_likelihood(x_train, t_train, W, b, V, a))\n",
      "\n",
      "    return loglik_train"
     ],
     "language": "python",
     "metadata": {},
     "outputs": [],
     "prompt_number": 18
    },
    {
     "cell_type": "code",
     "collapsed": false,
     "input": [
      "# Test\n",
      "W, b, V, a = init_mlperceptron_weights(num_of_features, num_of_class, L)\n",
      "likelihood = train_mlperceptron(W, b, V, a, num_iter=20)"
     ],
     "language": "python",
     "metadata": {},
     "outputs": [
      {
       "output_type": "stream",
       "stream": "stdout",
       "text": [
        "dt = 11.749341011\n",
        "dt ="
       ]
      },
      {
       "output_type": "stream",
       "stream": "stdout",
       "text": [
        " 11.7022368908\n",
        "dt ="
       ]
      },
      {
       "output_type": "stream",
       "stream": "stdout",
       "text": [
        " 11.7554790974\n",
        "dt ="
       ]
      },
      {
       "output_type": "stream",
       "stream": "stdout",
       "text": [
        " 11.7140228748\n",
        "dt ="
       ]
      },
      {
       "output_type": "stream",
       "stream": "stdout",
       "text": [
        " 11.7579360008\n",
        "dt ="
       ]
      },
      {
       "output_type": "stream",
       "stream": "stdout",
       "text": [
        " 11.762294054\n",
        "dt ="
       ]
      },
      {
       "output_type": "stream",
       "stream": "stdout",
       "text": [
        " 11.7154080868\n",
        "dt ="
       ]
      },
      {
       "output_type": "stream",
       "stream": "stdout",
       "text": [
        " 11.7621219158\n",
        "dt ="
       ]
      },
      {
       "output_type": "stream",
       "stream": "stdout",
       "text": [
        " 11.7620649338\n",
        "dt ="
       ]
      },
      {
       "output_type": "stream",
       "stream": "stdout",
       "text": [
        " 11.7433152199\n",
        "dt ="
       ]
      },
      {
       "output_type": "stream",
       "stream": "stdout",
       "text": [
        " 11.7541389465\n",
        "dt ="
       ]
      },
      {
       "output_type": "stream",
       "stream": "stdout",
       "text": [
        " 11.7270381451\n",
        "dt ="
       ]
      },
      {
       "output_type": "stream",
       "stream": "stdout",
       "text": [
        " 11.7738518715\n",
        "dt ="
       ]
      },
      {
       "output_type": "stream",
       "stream": "stdout",
       "text": [
        " 11.7657809258\n",
        "dt ="
       ]
      },
      {
       "output_type": "stream",
       "stream": "stdout",
       "text": [
        " 11.7822918892\n",
        "dt ="
       ]
      },
      {
       "output_type": "stream",
       "stream": "stdout",
       "text": [
        " 11.769810915\n",
        "dt ="
       ]
      },
      {
       "output_type": "stream",
       "stream": "stdout",
       "text": [
        " 11.7125301361\n",
        "dt ="
       ]
      },
      {
       "output_type": "stream",
       "stream": "stdout",
       "text": [
        " 11.6957070827\n",
        "dt ="
       ]
      },
      {
       "output_type": "stream",
       "stream": "stdout",
       "text": [
        " 11.9570178986\n",
        "dt ="
       ]
      },
      {
       "output_type": "stream",
       "stream": "stdout",
       "text": [
        " 11.763520956\n"
       ]
      }
     ],
     "prompt_number": 19
    },
    {
     "cell_type": "code",
     "collapsed": false,
     "input": [
      "r = np.arange(len(likelihood))\n",
      "figure = plt.figure()\n",
      "figure.set_size_inches((14, 10))\n",
      "plt.plot(r, likelihood)\n",
      "plt.title('log likelihood changes for the training set')\n",
      "plt.ylabel('Likelihood')\n",
      "plt.xlabel('Iteration')\n",
      "plt.grid(True)"
     ],
     "language": "python",
     "metadata": {},
     "outputs": [
      {
       "metadata": {},
       "output_type": "display_data",
       "png": "[encoded data removed]",
       "text": [
        "<matplotlib.figure.Figure at 0x7fefb23c22d0>"
       ]
      }
     ],
     "prompt_number": 20
    },
    {
     "cell_type": "code",
     "collapsed": false,
     "input": [
      "def predict_mlperceptron(W, b, V, a, x):\n",
      "    h = 1 / (1 + np.exp(-x.dot(V) - a))\n",
      "    log_q = h.dot(W) + b\n",
      "    return np.argmax(log_q, axis=1)"
     ],
     "language": "python",
     "metadata": {},
     "outputs": [],
     "prompt_number": 21
    },
    {
     "cell_type": "markdown",
     "metadata": {},
     "source": [
      "We got 91.9% of accuracy on validation set without model selection:"
     ]
    },
    {
     "cell_type": "code",
     "collapsed": false,
     "input": [
      "# Test\n",
      "prediction = predict_mlperceptron(W, b, V, a, x_valid)\n",
      "correctness = t_valid == prediction\n",
      "accuracy = len(correctness[correctness == True]) / float(len(t_valid))\n",
      "print accuracy"
     ],
     "language": "python",
     "metadata": {},
     "outputs": [
      {
       "output_type": "stream",
       "stream": "stdout",
       "text": [
        "0.919\n"
       ]
      }
     ],
     "prompt_number": 22
    },
    {
     "cell_type": "code",
     "collapsed": false,
     "input": [
      "figure = plt.figure()\n",
      "figure.set_size_inches((16, 10))\n",
      "plot_digits(V.T, numcols=5)"
     ],
     "language": "python",
     "metadata": {},
     "outputs": [
      {
       "metadata": {},
       "output_type": "display_data",
       "png": "[encoded data removed]",
       "text": [
        "<matplotlib.figure.Figure at 0x7fefb1fc5b50>"
       ]
      }
     ]
    },
    {
     "cell_type": "markdown",
     "metadata": {},
     "source": [
      "### 2.3.1. Less than 250 misclassifications on the test set (10 bonus points)\n",
      "\n",
      "You receive an additional 10 bonus points if you manage to train a model with very high accuracy: at most 2.5% misclasified digits on the test set. Note that the test set contains 10000 digits, so you model should misclassify at most 250 digits. This should be achievable with a MLP model with one hidden layer. See results of various models at : `http://yann.lecun.com/exdb/mnist/index.html`. To reach such a low accuracy, you probably need to have a very high $L$ (many hidden units), probably $L > 200$, and apply a strong Gaussian prior on the weights. In this case you are allowed to use the validation set for training.\n",
      "You are allowed to add additional layers, and use convolutional networks, although that is probably not required to reach 2.5% misclassifications."
     ]
    },
    {
     "cell_type": "code",
     "collapsed": false,
     "input": [
      "# Ignore this cell if you don't want to wait for a century\n",
      "best_L = 0\n",
      "best_a1 = 0\n",
      "best_a2 = 0\n",
      "best_accuracy = 0\n",
      "\n",
      "for a1 in [0.001, 0.005, 0.01]:\n",
      "    for a2 in [0.001, 0.005, 0.01]:\n",
      "        for L in [150, 200, 250, 300]:\n",
      "            np.random.seed(0)\n",
      "            W, b, V, a = init_mlperceptron_weights(num_of_features, num_of_class, L)\n",
      "            train_mlperceptron(W, b, V, a, a1=a1, a2=a2, num_iter=5, cl=False)\n",
      "            prediction = predict_mlperceptron(W, b, V, a, x_valid)\n",
      "            correctness = t_valid == prediction\n",
      "            accuracy = len(correctness[correctness == True]) / float(len(t_valid))\n",
      "            print 'L =', L, 'a1 =', a1, 'a2 =', a2, 'accuracy =', accuracy\n",
      "            if accuracy > best_accuracy:\n",
      "                best_L = L\n",
      "                best_a1 = a1\n",
      "                best_a2 = a2\n",
      "                best_accuracy = accuracy\n",
      "\n",
      "print best_a1, best_a2, best_L"
     ],
     "language": "python",
     "metadata": {},
     "outputs": [
      {
       "output_type": "stream",
       "stream": "stdout",
       "text": [
        "dt = 36.1404809952\n",
        "dt ="
       ]
      },
      {
       "output_type": "stream",
       "stream": "stdout",
       "text": [
        " 36.4526309967\n",
        "dt ="
       ]
      },
      {
       "output_type": "stream",
       "stream": "stdout",
       "text": [
        " 36.081289053\n",
        "dt ="
       ]
      },
      {
       "output_type": "stream",
       "stream": "stdout",
       "text": [
        " 35.7838938236\n",
        "dt ="
       ]
      },
      {
       "output_type": "stream",
       "stream": "stdout",
       "text": [
        " 35.6864190102\n",
        "L ="
       ]
      },
      {
       "output_type": "stream",
       "stream": "stdout",
       "text": [
        " 150 a1 = 0.001 a2 = 0.001 accuracy = 0.8807\n",
        "dt ="
       ]
      },
      {
       "output_type": "stream",
       "stream": "stdout",
       "text": [
        " 59.0064771175\n",
        "dt ="
       ]
      },
      {
       "output_type": "stream",
       "stream": "stdout",
       "text": [
        " 59.9170291424\n",
        "dt ="
       ]
      },
      {
       "output_type": "stream",
       "stream": "stdout",
       "text": [
        " 59.9129788876\n",
        "dt ="
       ]
      },
      {
       "output_type": "stream",
       "stream": "stdout",
       "text": [
        " 58.1051089764\n",
        "dt ="
       ]
      },
      {
       "output_type": "stream",
       "stream": "stdout",
       "text": [
        " 59.1668610573\n",
        "L ="
       ]
      },
      {
       "output_type": "stream",
       "stream": "stdout",
       "text": [
        " 200 a1 = 0.001 a2 = 0.001 accuracy = 0.8813\n",
        "dt ="
       ]
      },
      {
       "output_type": "stream",
       "stream": "stdout",
       "text": [
        " 94.0111758709\n",
        "dt ="
       ]
      },
      {
       "output_type": "stream",
       "stream": "stdout",
       "text": [
        " 91.4698078632\n",
        "dt ="
       ]
      },
      {
       "output_type": "stream",
       "stream": "stdout",
       "text": [
        " 85.9305830002\n",
        "dt ="
       ]
      },
      {
       "output_type": "stream",
       "stream": "stdout",
       "text": [
        " 85.7214310169\n",
        "dt ="
       ]
      },
      {
       "output_type": "stream",
       "stream": "stdout",
       "text": [
        " 91.5173709393\n",
        "L ="
       ]
      },
      {
       "output_type": "stream",
       "stream": "stdout",
       "text": [
        " 250 a1 = 0.001 a2 = 0.001 accuracy = 0.8806\n",
        "dt ="
       ]
      },
      {
       "output_type": "stream",
       "stream": "stdout",
       "text": [
        " 115.118833065\n",
        "dt ="
       ]
      },
      {
       "output_type": "stream",
       "stream": "stdout",
       "text": [
        " 112.193403006\n",
        "dt ="
       ]
      },
      {
       "output_type": "stream",
       "stream": "stdout",
       "text": [
        " 110.160282135\n",
        "dt ="
       ]
      },
      {
       "output_type": "stream",
       "stream": "stdout",
       "text": [
        " 110.108178854\n",
        "dt ="
       ]
      },
      {
       "output_type": "stream",
       "stream": "stdout",
       "text": [
        " 110.097103119\n",
        "L ="
       ]
      },
      {
       "output_type": "stream",
       "stream": "stdout",
       "text": [
        " 300 a1 = 0.001 a2 = 0.001 accuracy = 0.8789\n",
        "dt ="
       ]
      },
      {
       "output_type": "stream",
       "stream": "stdout",
       "text": [
        " 34.7444028854\n",
        "dt ="
       ]
      },
      {
       "output_type": "stream",
       "stream": "stdout",
       "text": [
        " 35.1943128109\n",
        "dt ="
       ]
      },
      {
       "output_type": "stream",
       "stream": "stdout",
       "text": [
        " 35.2584700584\n",
        "dt ="
       ]
      },
      {
       "output_type": "stream",
       "stream": "stdout",
       "text": [
        " 35.273624897\n",
        "dt ="
       ]
      },
      {
       "output_type": "stream",
       "stream": "stdout",
       "text": [
        " 35.2362449169\n",
        "L ="
       ]
      },
      {
       "output_type": "stream",
       "stream": "stdout",
       "text": [
        " 150 a1 = 0.001 a2 = 0.005 accuracy = 0.8738\n",
        "dt ="
       ]
      },
      {
       "output_type": "stream",
       "stream": "stdout",
       "text": [
        " 57.7591640949\n",
        "dt ="
       ]
      },
      {
       "output_type": "stream",
       "stream": "stdout",
       "text": [
        " 57.6998641491\n",
        "dt ="
       ]
      },
      {
       "output_type": "stream",
       "stream": "stdout",
       "text": [
        " 57.3350760937\n",
        "dt ="
       ]
      },
      {
       "output_type": "stream",
       "stream": "stdout",
       "text": [
        " 58.3718030453\n",
        "dt ="
       ]
      },
      {
       "output_type": "stream",
       "stream": "stdout",
       "text": [
        " 57.7873208523\n",
        "L ="
       ]
      },
      {
       "output_type": "stream",
       "stream": "stdout",
       "text": [
        " 200 a1 = 0.001 a2 = 0.005 accuracy = 0.8779\n",
        "dt ="
       ]
      },
      {
       "output_type": "stream",
       "stream": "stdout",
       "text": [
        " 85.1471838951\n",
        "dt ="
       ]
      },
      {
       "output_type": "stream",
       "stream": "stdout",
       "text": [
        " 85.2267768383\n",
        "dt ="
       ]
      },
      {
       "output_type": "stream",
       "stream": "stdout",
       "text": [
        " 85.265212059\n",
        "dt ="
       ]
      },
      {
       "output_type": "stream",
       "stream": "stdout",
       "text": [
        " 85.0255630016\n",
        "dt ="
       ]
      },
      {
       "output_type": "stream",
       "stream": "stdout",
       "text": [
        " 84.4933559895\n",
        "L ="
       ]
      },
      {
       "output_type": "stream",
       "stream": "stdout",
       "text": [
        " 250 a1 = 0.001 a2 = 0.005 accuracy = 0.8761\n",
        "dt ="
       ]
      },
      {
       "output_type": "stream",
       "stream": "stdout",
       "text": [
        " 120.142332077\n",
        "dt ="
       ]
      },
      {
       "output_type": "stream",
       "stream": "stdout",
       "text": [
        " 122.890453815\n",
        "dt ="
       ]
      }
     ]
    },
    {
     "cell_type": "code",
     "collapsed": false,
     "input": [
      "np.random.seed(0)\n",
      "best_a1 = 0.001\n",
      "best_a2 = 0.001\n",
      "best_L = 200\n",
      "W, b, V, a = init_mlperceptron_weights(num_of_features, num_of_class, best_L)\n",
      "# L = 150 a1 = 0.001 a2 = 0.001 accuracy = 0.8807\n",
      "# L = 200 a1 = 0.001 a2 = 0.001 accuracy = 0.8813\n",
      "# L = 250 a1 = 0.001 a2 = 0.001 accuracy = 0.8806\n",
      "# L = 300 a1 = 0.001 a2 = 0.001 accuracy = 0.8789\n",
      "# L = 150 a1 = 0.001 a2 = 0.005 accuracy = 0.8738\n",
      "# L = 200 a1 = 0.001 a2 = 0.005 accuracy = 0.8779\n",
      "# L = 250 a1 = 0.001 a2 = 0.005 accuracy = 0.8761\n",
      "\n",
      "train_mlperceptron(W, b, V, a, a1=best_a1, a2=best_a2, num_iter=20, cl=False)"
     ],
     "language": "python",
     "metadata": {},
     "outputs": [
      {
       "output_type": "stream",
       "stream": "stdout",
       "text": [
        "dt = 64.8666241169\n",
        "dt ="
       ]
      },
      {
       "output_type": "stream",
       "stream": "stdout",
       "text": [
        " 64.7134349346\n",
        "dt ="
       ]
      },
      {
       "output_type": "stream",
       "stream": "stdout",
       "text": [
        " 64.4661099911\n",
        "dt ="
       ]
      },
      {
       "output_type": "stream",
       "stream": "stdout",
       "text": [
        " 64.2972989082\n",
        "dt ="
       ]
      },
      {
       "output_type": "stream",
       "stream": "stdout",
       "text": [
        " 64.8289330006\n",
        "dt ="
       ]
      },
      {
       "output_type": "stream",
       "stream": "stdout",
       "text": [
        " 64.6778249741\n",
        "dt ="
       ]
      },
      {
       "output_type": "stream",
       "stream": "stdout",
       "text": [
        " 65.1156840324\n",
        "dt ="
       ]
      },
      {
       "output_type": "stream",
       "stream": "stdout",
       "text": [
        " 64.2937319279\n",
        "dt ="
       ]
      },
      {
       "output_type": "stream",
       "stream": "stdout",
       "text": [
        " 64.8534121513\n",
        "dt ="
       ]
      },
      {
       "output_type": "stream",
       "stream": "stdout",
       "text": [
        " 64.4524497986\n",
        "dt ="
       ]
      },
      {
       "output_type": "stream",
       "stream": "stdout",
       "text": [
        " 64.1453700066\n",
        "dt ="
       ]
      },
      {
       "output_type": "stream",
       "stream": "stdout",
       "text": [
        " 64.9153909683\n",
        "dt ="
       ]
      },
      {
       "output_type": "stream",
       "stream": "stdout",
       "text": [
        " 64.5796968937\n",
        "dt ="
       ]
      },
      {
       "output_type": "stream",
       "stream": "stdout",
       "text": [
        " 64.261963129\n",
        "dt ="
       ]
      },
      {
       "output_type": "stream",
       "stream": "stdout",
       "text": [
        " 63.4503080845\n",
        "dt ="
       ]
      },
      {
       "output_type": "stream",
       "stream": "stdout",
       "text": [
        " 62.8272130489\n",
        "dt ="
       ]
      },
      {
       "output_type": "stream",
       "stream": "stdout",
       "text": [
        " 63.8530681133\n",
        "dt ="
       ]
      },
      {
       "output_type": "stream",
       "stream": "stdout",
       "text": [
        " 64.3897378445\n",
        "dt ="
       ]
      },
      {
       "output_type": "stream",
       "stream": "stdout",
       "text": [
        " 64.5703201294\n",
        "dt ="
       ]
      },
      {
       "output_type": "stream",
       "stream": "stdout",
       "text": [
        " 64.4503500462\n"
       ]
      },
      {
       "metadata": {},
       "output_type": "pyout",
       "prompt_number": 28,
       "text": [
        "[]"
       ]
      }
     ],
     "prompt_number": 28
    },
    {
     "cell_type": "code",
     "collapsed": false,
     "input": [
      "prediction = predict_mlperceptron(W, b, V, a, x_valid)\n",
      "correctness = t_valid == prediction\n",
      "accuracy = len(correctness[correctness == True]) / float(len(t_valid))\n",
      "print accuracy"
     ],
     "language": "python",
     "metadata": {},
     "outputs": [
      {
       "output_type": "stream",
       "stream": "stdout",
       "text": [
        "0.9179\n"
       ]
      }
     ],
     "prompt_number": 39
    },
    {
     "cell_type": "code",
     "collapsed": false,
     "input": [
      "W1 = np.copy(W)\n",
      "b1 = np.copy(b)\n",
      "V1 = np.copy(V)\n",
      "a1 = np.copy(a)\n",
      "train_mlperceptron(W1, b1, V1, a1, a1=best_a1, a2=best_a2, num_iter=5, cl=False)"
     ],
     "language": "python",
     "metadata": {},
     "outputs": [
      {
       "output_type": "stream",
       "stream": "stdout",
       "text": [
        "dt = 55.5144901276\n",
        "dt ="
       ]
      },
      {
       "output_type": "stream",
       "stream": "stdout",
       "text": [
        " 55.3634490967\n",
        "dt ="
       ]
      },
      {
       "output_type": "stream",
       "stream": "stdout",
       "text": [
        " 55.3930630684\n",
        "dt ="
       ]
      },
      {
       "output_type": "stream",
       "stream": "stdout",
       "text": [
        " 54.1291520596\n",
        "dt ="
       ]
      },
      {
       "output_type": "stream",
       "stream": "stdout",
       "text": [
        " 54.125690937\n"
       ]
      },
      {
       "metadata": {},
       "output_type": "pyout",
       "prompt_number": 30,
       "text": [
        "[]"
       ]
      }
     ],
     "prompt_number": 30
    },
    {
     "cell_type": "code",
     "collapsed": false,
     "input": [
      "prediction = predict_mlperceptron(W1, b1, V1, a1, x_valid)\n",
      "correctness = t_valid == prediction\n",
      "accuracy = len(correctness[correctness == True]) / float(len(t_valid))\n",
      "print accuracy"
     ],
     "language": "python",
     "metadata": {},
     "outputs": [
      {
       "output_type": "stream",
       "stream": "stdout",
       "text": [
        "0.92\n"
       ]
      }
     ],
     "prompt_number": 40
    },
    {
     "cell_type": "code",
     "collapsed": false,
     "input": [
      "W2 = np.copy(W1)\n",
      "b2 = np.copy(b1)\n",
      "V2 = np.copy(V1)\n",
      "a2 = np.copy(a1)\n",
      "train_mlperceptron(W2, b2, V2, a2, a1=best_a1, a2=best_a2, num_iter=5, cl=False)"
     ],
     "language": "python",
     "metadata": {},
     "outputs": [
      {
       "output_type": "stream",
       "stream": "stdout",
       "text": [
        "dt = 54.5731868744\n",
        "dt ="
       ]
      },
      {
       "output_type": "stream",
       "stream": "stdout",
       "text": [
        " 55.0300350189\n",
        "dt ="
       ]
      },
      {
       "output_type": "stream",
       "stream": "stdout",
       "text": [
        " 54.8870930672\n",
        "dt ="
       ]
      },
      {
       "output_type": "stream",
       "stream": "stdout",
       "text": [
        " 54.5760028362\n",
        "dt ="
       ]
      },
      {
       "output_type": "stream",
       "stream": "stdout",
       "text": [
        " 54.5074689388\n"
       ]
      },
      {
       "metadata": {},
       "output_type": "pyout",
       "prompt_number": 32,
       "text": [
        "[]"
       ]
      }
     ],
     "prompt_number": 32
    },
    {
     "cell_type": "code",
     "collapsed": false,
     "input": [
      "prediction = predict_mlperceptron(W2, b2, V2, a2, x_valid)\n",
      "correctness = t_valid == prediction\n",
      "accuracy = len(correctness[correctness == True]) / float(len(t_valid))\n",
      "print accuracy"
     ],
     "language": "python",
     "metadata": {},
     "outputs": [
      {
       "output_type": "stream",
       "stream": "stdout",
       "text": [
        "0.9205\n"
       ]
      }
     ],
     "prompt_number": 41
    },
    {
     "cell_type": "code",
     "collapsed": false,
     "input": [],
     "language": "python",
     "metadata": {},
     "outputs": []
    }
   ],
   "metadata": {}
  }
 ]
}