{
 "cells": [
  {
   "cell_type": "markdown",
   "metadata": {},
   "source": [
    "# Lab 3: Bayesian PCA\n",
    "\n",
    "### Machine Learning II, 2016\n",
    "\n",
    "* The lab exercises should be made in groups of two people.\n",
    "* The deadline for part 1 is Sunday, 15 May, 23:59.\n",
    "* Assignment should be sent to taco.cohen at gmail dot com. The subject line of your email should be \"[MLII2016] lab3part1_lastname1\\_lastname2\". \n",
    "* Put your and your teammates' names in the body of the email\n",
    "* Attach the .IPYNB (IPython Notebook) file containing your code and answers. Naming of the file follows the same rule as the subject line. For example, if the subject line is \"[MLII2016] lab01\\_Kingma\\_Hu\", the attached file should be \"lab3part1\\_Kingma\\_Hu.ipynb\". Only use underscores (\"\\_\") to connect names, otherwise the files cannot be parsed.\n",
    "\n",
    "Notes on implementation:\n",
    "\n",
    "* You should write your code and answers in an IPython Notebook: http://ipython.org/notebook.html. If you have problems, please contact us.\n",
    "* Among the first lines of your notebook should be \"%pylab inline\". This imports all required modules, and your plots will appear inline.\n",
    "* NOTE: test your code and make sure we can run your notebook / scripts!\n",
    "* NOTE: please write your answers directly below the question in the notebook."
   ]
  },
  {
   "cell_type": "markdown",
   "metadata": {},
   "source": [
    "### Introduction\n",
    "\n",
    "In this lab assignment, we will implement a variational algorithm for Bayesian PCA. Unlike regular PCA based on maximization of retained variance or minimization of projection error (see Bishop, 12.1.1 and 12.1.2), probabilistic PCA defines a proper density model over observed and latent variables. We will work with a fully Bayesian model this time, which is to say that we will put priors on our parameters and will be interested in learning the posterior over those parameters. Bayesian methods are very elegant, but require a shift in mindset: we are no longer looking for a point estimate of the parameters (as in maximum likelihood or MAP), but for a full posterior distribution over the space of parameters.\n",
    "\n",
    "The integrals involved in a Bayesian analysis are usually analytically intractable, so that we must resort to approximations. In this lab assignment, we will implement the variational method described in Bishop99. Chapters 10 and 12 of the PRML book contain additional material that may be useful when doing this exercise.\n",
    "\n",
    "* [Bishop99] Variational Principal Components, C. Bishop, ICANN 1999 - http://research.microsoft.com/pubs/67241/bishop-vpca-icann-99.pdf\n",
    "\n",
    "Below, you will find some code to get you started."
   ]
  },
  {
   "cell_type": "code",
   "execution_count": null,
   "metadata": {
    "collapsed": true
   },
   "outputs": [],
   "source": [
    "%pylab inline\n",
    "import scipy.special as sp\n",
    "\n",
    "class BayesianPCA(object):\n",
    "    \n",
    "    def __init__(self, d, N, a_alpha=10e-3, b_alpha=10e-3, a_tau=10e-3, b_tau=10e-3, beta=10e-3):\n",
    "        \"\"\"\n",
    "        \"\"\"\n",
    "        self.d = d # number of dimensions\n",
    "        self.N = N # number of data points\n",
    "        \n",
    "        # Hyperparameters\n",
    "        self.a_alpha = a_alpha\n",
    "        self.b_alpha = b_alpha\n",
    "        self.a_tau = a_tau\n",
    "        self.b_tau = b_tau\n",
    "        self.beta = beta\n",
    "\n",
    "        # Variational parameters\n",
    "        self.means_z = np.random.randn(d, N) # called x in bishop99\n",
    "        self.sigma_z = np.random.randn(d, d)\n",
    "        self.mean_mu = np.random.randn(d, 1)\n",
    "        self.sigma_mu = np.random.randn(d, d)\n",
    "        self.means_w = np.random.randn(d, d)\n",
    "        self.sigma_w = np.random.randn(d, d)\n",
    "        self.a_alpha_tilde = np.abs(np.random.randn(1))\n",
    "        self.bs_alpha_tilde = np.abs(np.random.randn(d, 1))\n",
    "        self.a_tau_tilde = np.abs(np.random.randn(1))\n",
    "        self.b_tau_tilde = np.abs(np.random.randn(1))\n",
    "    \n",
    "    def __update_z(self, X):\n",
    "        pass\n",
    "    \n",
    "    def __update_mu(self):\n",
    "        pass\n",
    "    \n",
    "    def __update_w(self, X):\n",
    "        pass\n",
    "    \n",
    "    def __update_alpha(self):\n",
    "        pass\n",
    "\n",
    "    def __update_tau(self, X):\n",
    "        pass\n",
    "\n",
    "    def L(self, X):\n",
    "        L = 0.0\n",
    "        return L\n",
    "    \n",
    "    def fit(self, X):\n",
    "        pass"
   ]
  },
  {
   "cell_type": "markdown",
   "metadata": {},
   "source": [
    "### 1. The Q-distribution (5 points)\n",
    "\n",
    "In variational Bayes, we introduce a distribution $Q(\\Theta)$ over parameters / latent variables in order to make inference tractable. We can think of $Q$ as being an approximation of a certain distribution. What function does $Q$ approximate, $p(D|\\Theta)$, $p(\\Theta|D)$, $p(D, \\Theta)$, $p(\\Theta)$, or $p(D)$, and how do you see that from the equation $\\ln p(D) = \\mathcal{L}(Q) + \\mathrm{KL}(Q||P)$? (Hint: see eq. 11 in Bishop99)"
   ]
  },
  {
   "cell_type": "markdown",
   "metadata": {},
   "source": [
    "Answer\n",
    "-------\n",
    "\n",
    "Q approximates p(\\theta|D) since we are minimizing Kullback-Leibler divergence between the approximating distribution $Q(\\theta)$ and the true posterior $p(\\theta|D)$ in the eq.11 (Bishop99)."
   ]
  },
  {
   "cell_type": "markdown",
   "metadata": {},
   "source": [
    "### 2. The mean-field approximation (15 points)\n",
    "\n",
    "Equation 13 from [Bishop99] is a very powerful result: assuming only that $Q(\\Theta)$ factorizes in a certain way (no assumptions on the functional form of the factors $Q_i$!), we get a set of coupled equations for the $Q_i$.\n",
    "\n",
    "However, the expression given in eq. 13 for Q_i contains a small mistake. Starting with the expression for the lower bound $\\mathcal{L}(Q)$, derive the correct expression (and include your derivation). You can proceed as follows: first, substitute the factorization of $Q$ (eq. 12) into the definition of $\\mathcal{L}(Q)$ and separate $\\mathcal{L}(Q)$ into $Q_i$-dependent and $Q_i$-independent terms. At this point, you should be able to spot the expectations $\\langle\\cdot\\rangle_{k \\neq i}$ over the other $Q$-distributions that appear in Bishop's solution (eq. 13). Now, keeping all $Q_k, k \\neq i$ fixed, maximize the expression with respect to $Q_i$. You should be able to spot the form of the optimal $\\ln Q_i$, from which $Q_i$ can easily be obtained."
   ]
  },
  {
   "cell_type": "markdown",
   "metadata": {},
   "source": [
    "Answer\n",
    "------\n",
    "Bishop PRML (10.3):\n",
    "$$ \\mathcal{L}(Q) = \\int Q(\\theta)\\ln\\dfrac{p(\\theta,D)}{Q(\\theta)}d\\theta $$\n",
    "\n",
    "Bishop99 (12):\n",
    "\n",
    "$$ Q(\\theta) = \\prod_i Q_i(\\theta_i) $$\n",
    "\n",
    "Bishop PRML (10.6):\n",
    "\n",
    "$$\n",
    "\\mathcal{L}(Q) = \\int Q(\\theta)\\bigg(\\ln p(\\theta, D) - \\ln Q(\\theta)\\bigg)d\\theta\\\\\n",
    "=\\int \\prod_i Q_i(\\theta_i)\\bigg(\\ln p(\\theta,D) - \\sum_j \\ln Q_i(\\theta_i)\\bigg)d\\theta\\\\\n",
    "=\\int Q_k(\\theta_k)\\bigg[\\int\\bigg(\\prod_{i \\neq k} Q_i(\\theta_i)\\bigg)\\ln p(\\theta,D)d\\theta_i\\bigg]d\\theta_k - \\int Q_k(\\theta_k)\\ln Q_k(\\theta_k)d\\theta_k + const\n",
    "$$\n",
    "\n",
    "$$\n",
    "= \\int Q_k(\\theta_k)\\ln\\widetilde{p}(\\theta_k,D)d\\theta_k - \\int Q_k(\\theta_k)\\ln Q_k(\\theta_k)d\\theta_k + const\n",
    "$$\n",
    "\n",
    "where we denote:\n",
    "\n",
    "$$\n",
    "\\ln\\widetilde{p}(\\theta_k,D) = E_{i\\neq k}[\\ln p(\\theta, D)] + const\n",
    "$$\n",
    "\n",
    "Maximizing $\\mathcal{L}(Q)$ is equivalent to minizing the Kullback-Leibler divergence occured when $Q_k(\\theta_k) = \\widetilde{p}(\\theta_k, D)$. Consequently:\n",
    "\n",
    "$$\n",
    "\\ln q_k^{*}(\\theta_k) = = E_{i\\neq k}[\\ln p(\\theta, D)] + const\n",
    "$$\n",
    "\n",
    "After taking the exponential of both sides and normalizing we get:\n",
    "\n",
    "$$\n",
    "Q_k^{*}(\\theta_k) = \\dfrac{\\exp{E_{i\\neq k}[\\ln p(\\theta, D)]}}{\\int\\exp{E_{i\\neq k}[\\ln p(\\theta, D)]}d\\theta_k}\n",
    "$$\n",
    "\n",
    "Consequently a small mistake in the paper was just in indexes in the denominator."
   ]
  },
  {
   "cell_type": "markdown",
   "metadata": {},
   "source": [
    "### 3. The log-probability (10 points)\n",
    "\n",
    "Write down the log-prob of data and parameters, $\\ln p(\\mathbf{X}, \\mathbf{Z}, \\mathbf{W}, \\mathbf{\\alpha}, \\tau, \\mathbf{\\mu})$, in full detail (where $\\mathbf{X}$ are observed, $\\mathbf{Z}$ is latent; this is different from [Bishop99] who uses $\\mathbf{T}$ and $\\mathbf{X}$ respectively, but $\\mathbf{X}$ and $\\mathbf{Z}$ are consistent with the PRML book and are more common nowadays). Could we use the log-prob to assess the convergence of the variational Bayesian PCA algorithm? If yes, how? If no, why not?"
   ]
  },
  {
   "cell_type": "markdown",
   "metadata": {},
   "source": [
    "Answer\n",
    "------\n",
    "The probability of data and parameters is (derived from the graphical model in Figure 1 (Bishop99):\n",
    "\n",
    "$$\n",
    "p(X,Z,W,\\alpha,\\tau,\\mu) = p(\\alpha)p(\\tau)p(\\mu)p(W|\\alpha)p(Z)p(X|Z,W,\\tau,\\mu)\\\\\n",
    "= p(\\alpha)p(\\tau)p(\\mu)p(W|\\alpha)\\prod_{n=1}^N p(z_n)\\prod_{n=1}^N p(x_n|z_n, W,\\tau,\\mu)\n",
    "$$\n",
    "\n",
    "Consequently log-prob will be:\n",
    "\n",
    "$$\n",
    "\\ln p(X,Z,W,\\alpha,\\tau,\\mu) = \\ln p(\\alpha) + \\ln p(\\tau) + \\ln p(\\mu) + \\ln p(W|\\alpha) + \\sum_{n=1}^N \\ln p(z_n)  + \\sum_{n=1}^N \\ln p(x_n|z_n, W,\\tau,\\mu)\n",
    "$$\n",
    "\n",
    "where (Bishop99, p 511):\n",
    "\n",
    "$$\n",
    "\\ln p(\\alpha) = \\prod_{i=1}^q \\Gamma(\\alpha_i|a,b)\n",
    "$$\n",
    "\n",
    "$$\n",
    "\\ln p(\\tau) = \\Gamma(\\tau|c,d)\n",
    "$$\n",
    "\n",
    "$$\n",
    "\\ln p(\\mu) = \\mathcal{N}(\\mu|0,\\beta^{-1}I)\n",
    "$$\n",
    "\n",
    "$$\n",
    "p(W|\\alpha) = \\prod_{i=1}^q (\\dfrac{\\alpha_i}{2\\pi})^{d/2}\\exp(-\\dfrac{1}{2}\\alpha_i||w_i||^2)\n",
    "$$\n",
    "\n",
    "Bishop99 (2, 3):\n",
    "\n",
    "$$p(z_n) = \\mathcal{N}(z_n|0,I)$$\n",
    "\n",
    "$$p(x_n|z_n) = \\mathcal{N}(x_n|Wz_n + \\mu, \\tau^{-1}I)$$"
   ]
  },
  {
   "cell_type": "markdown",
   "metadata": {},
   "source": [
    "Consequently:\n",
    "\n",
    "$$ \\ln p(X,Z,W,\\alpha,\\tau,\\mu) = \\sum_{i=1}^q\\ln\\Gamma(\\alpha_i|a,b) + \\ln\\Gamma(\\tau|c,d) + \\ln\\mathcal{N}(\\mu|0,\\beta^{-1}I) +\\sum_{i=1}^q \\ln \\bigg[(\\dfrac{\\alpha_i}{2\\pi})^{d/2}\\exp(-\\dfrac{1}{2}\\alpha_i||w_i||^2)\\bigg] + \\sum_{n=1}^N\\ln \\mathcal{N}(z_n|0,I) + \\sum_{n=1}^N \\ln\\mathcal{N}(x_n|Wz_n + \\mu, \\tau^{-1}I)$$"
   ]
  },
  {
   "cell_type": "markdown",
   "metadata": {},
   "source": [
    "where:\n",
    "\n",
    "$$\n",
    "\\ln\\Gamma(\\alpha_i|a,b) = \\ln\\bigg[\\dfrac{1}{\\Gamma(a)}b^a\\alpha_i^{a-1}e^{-b\\alpha_i}\\bigg] = a\\ln b + (a-1)\\ln\\alpha_i - b\\alpha_i - \\ln\\Gamma(a)\n",
    "$$\n",
    "\n",
    "$$\n",
    "\\ln\\Gamma(\\tau|c,d) = \\ln\\bigg[\\dfrac{1}{\\Gamma(c)}d^c \\tau^{c-1}e^{-d\\tau}\\bigg] = c\\ln d + (c-1)\\ln\\tau - d\\tau - \\ln\\Gamma(c)\n",
    "$$\n",
    "\n",
    "$$\n",
    "\\ln\\mathcal{N}(\\mu|0,\\beta^{-1}I) = \\ln\\bigg[\\dfrac{1}{(2\\pi)^{D/2}}\\dfrac{1}{|\\beta^{-1}I|^{1/2}}\\exp(-\\dfrac{1}{2}\\mu^T(\\beta^{-1}I)^{-1}\\mu)\\bigg]\\\\\n",
    "= - \\dfrac{1}{2}\\mu^T\\beta\\mu - \\dfrac{D}{2}\\ln(2\\pi) - \\dfrac{1}{2}\\ln(D\\beta^{-1})\n",
    "$$\n",
    "\n",
    "$$\n",
    "\\ln \\bigg[(\\dfrac{\\alpha_i}{2\\pi})^{d/2}\\exp(-\\dfrac{1}{2}\\alpha_i||w_i||^2)\\bigg] = \\dfrac{d}{2}\\ln\\alpha_i - \\dfrac{d}{2}\\ln(2\\pi)-\\dfrac{1}{2}\\alpha_i||w_i||^2\n",
    "$$\n",
    "\n",
    "$$\n",
    "\\ln \\mathcal{N}(z_n|0,I) = -z_n^Tz_n - \\dfrac{D}{2}\\ln(2\\pi) - \\dfrac{1}{2}\\ln 2\n",
    "$$\n",
    "\n",
    "$$\n",
    "\\ln\\mathcal{N}(x_n|Wz_n + \\mu, \\tau^{-1}I) = -\\dfrac{1}{2}(x_n - Wz_n - \\mu)^T\\tau(x_n - Wz_n-\\mu) - \\dfrac{D}{2}\\ln(2\\pi) - \\dfrac{1}{2}\\ln(D\\tau^{-1})\n",
    "$$"
   ]
  },
  {
   "cell_type": "markdown",
   "metadata": {},
   "source": [
    "$$\n",
    "\\ln p(X,Z,W,\\alpha,\\tau,\\mu) = (a-1)\\sum_{i=1}^q\\ln\\alpha_i - b\\sum_{i=1}^q\\alpha_i + (c-1)\\ln\\tau -d\\tau -\\dfrac{1}{2}\\mu^T\\beta\\mu + \\dfrac{d}{2}\\sum_{i=1}^q\\ln\\alpha_i - \\dfrac{1}{2}\\sum_{i=1}^q \\alpha_i||w_i||^2 - \\sum_{n=1}^N z_n^Tz_n - \\dfrac{1}{2}\\sum_{n=1}^N(x_n - Wz_n -\\mu)^T\\tau(x_n-Wz_n-\\mu) - \\dfrac{1}{2}\\sum_{n=1}^N\\ln(D\\tau^{-1}) + const\n",
    "$$"
   ]
  },
  {
   "cell_type": "markdown",
   "metadata": {},
   "source": [
    "We cannot access the convergence of the variational Bayesian PCA algorithm using the log-prob since we have many parameters to optimize and to maximize the probability of data p(D) we have to integrate first over all parameters that are analytically intractable (Bishop99, Section 4, p 511)."
   ]
  },
  {
   "cell_type": "markdown",
   "metadata": {},
   "source": [
    "### 4. The lower bound $\\mathcal{L}(Q)$ (25 points)\n",
    "\n",
    "Derive an expression for the lower bound $\\mathcal{L}(Q)$ of the log-prob $\\ln p(X)$ for Bayesian PCA, making use of the factorization (eq. 12) and the form of the Q-distributions (eq. 16-20) as listed in [Bishop99]. Show your steps. Implement this function.\n",
    "\n",
    "The following result may be useful:\n",
    "\n",
    "For $x \\sim \\Gamma(a,b)$, we have $\\langle \\ln x\\rangle = \\ln b + \\psi(a)$, where $\\psi(a) = \\frac{\\Gamma'(a)}{\\Gamma(a)}$ is the digamma function (which is implemented in numpy.special)."
   ]
  },
  {
   "cell_type": "markdown",
   "metadata": {},
   "source": [
    "Answer\n",
    "------\n",
    "\n",
    "$$\n",
    "\\mathcal{L}(Q) = \\int Q(\\theta)\\bigg(\\ln p(X, Z, W, \\alpha, \\tau, \\mu) - \\ln Q(\\theta)\\bigg)d\\theta\\\\\n",
    "=\\int \\prod_i Q_i(\\theta_i)\\bigg(\\ln p(X, Z, W, \\alpha, \\tau, \\mu) - \\sum_j \\ln Q_i(\\theta_i)\\bigg)d\\theta\\\\\n",
    "=\\int Q(Z)Q(W)Q(\\alpha)Q(\\tau)Q(\\mu)\\bigg(\\ln p(X, Z, W, \\alpha, \\tau, \\mu) - \\bigg[\\ln Q(Z) + \\ln Q(W) + \\ln Q(\\alpha) + \\ln Q(\\tau) + \\ln Q(\\mu)\\bigg]\\bigg)dZ dW d\\alpha d\\tau d\\mu\\\\\n",
    "= \\int \\ln p(X, Z, W, \\alpha, \\tau, \\mu)\\prod_{k}Q(\\theta_k)d\\theta - \\sum_{i}\\int \\prod_{k\\neq i}Q(\\theta_k)\\bigg[\\int Q(\\theta_i)\\ln Q(\\theta_i) d\\theta_i\\bigg]d\\theta_{k\\neq i}\n",
    "$$"
   ]
  },
  {
   "cell_type": "markdown",
   "metadata": {},
   "source": [
    "### 5. Optimize variational parameters (50 points)\n",
    "Implement the update equations for the Q-distributions, in the __update_XXX methods. Each update function should re-estimate the variational parameters of the Q-distribution corresponding to one group of variables (i.e. either $Z$, $\\mu$, $W$, $\\alpha$ or $\\tau$).\n",
    "\n",
    "Hint: if you run into numerical instabilities resulting from the gamma function use the gammaln function from numpy.special."
   ]
  },
  {
   "cell_type": "markdown",
   "metadata": {},
   "source": [
    "### 6. Learning algorithm (10 points)\n",
    "Implement the learning algorithm described in [Bishop99], i.e. iteratively optimize each of the Q-distributions holding the others fixed.\n",
    "\n",
    "What would be a good way to track convergence of the algorithm? Implement your suggestion.\n",
    "\n",
    "Test the algorithm on some test data drawn from a Gaussian with different variances in orthogonal directions. "
   ]
  },
  {
   "cell_type": "markdown",
   "metadata": {},
   "source": [
    "### 7. PCA Representation of MNIST (10 points)\n",
    "\n",
    "Download the MNIST dataset from here http://deeplearning.net/tutorial/gettingstarted.html (the page contains python code for loading the data). Run your algorithm on (part of) this dataset, and visualize the results.\n"
   ]
  },
  {
   "cell_type": "code",
   "execution_count": null,
   "metadata": {
    "collapsed": true
   },
   "outputs": [],
   "source": []
  }
 ],
 "metadata": {
  "kernelspec": {
   "display_name": "Python 2",
   "language": "python",
   "name": "python2"
  },
  "language_info": {
   "codemirror_mode": {
    "name": "ipython",
    "version": 2
   },
   "file_extension": ".py",
   "mimetype": "text/x-python",
   "name": "python",
   "nbconvert_exporter": "python",
   "pygments_lexer": "ipython2",
   "version": "2.7.11"
  }
 },
 "nbformat": 4,
 "nbformat_minor": 0
}
